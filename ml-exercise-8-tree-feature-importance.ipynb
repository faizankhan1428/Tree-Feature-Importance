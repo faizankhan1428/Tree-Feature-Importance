{
 "cells": [
  {
   "cell_type": "markdown",
   "id": "d866bc50",
   "metadata": {
    "_cell_guid": "b1076dfc-b9ad-4769-8c92-a6c4dae69d19",
    "_uuid": "8f2839f25d086af736a60e9eeb907d3b93b6e0e5",
    "papermill": {
     "duration": 0.004399,
     "end_time": "2025-07-18T21:32:50.543022",
     "exception": false,
     "start_time": "2025-07-18T21:32:50.538623",
     "status": "completed"
    },
    "tags": []
   },
   "source": [
    "<div style=\"background-color:#e6f0ff; padding:15px; border-radius:10px; font-size:16px\">\n",
    "\n",
    "### 📘 Exercise 8 – Feature Importance with Tree Models | ML Basics\n",
    "</div>"
   ]
  },
  {
   "cell_type": "markdown",
   "id": "d6d09764",
   "metadata": {
    "papermill": {
     "duration": 0.002945,
     "end_time": "2025-07-18T21:32:50.549839",
     "exception": false,
     "start_time": "2025-07-18T21:32:50.546894",
     "status": "completed"
    },
    "tags": []
   },
   "source": [
    "## Objective\n",
    "Learn how tree-based models like Decision Trees and Random Forests can highlight important features in a dataset using built-in feature importance metrics."
   ]
  },
  {
   "cell_type": "markdown",
   "id": "acd713c4",
   "metadata": {
    "papermill": {
     "duration": 0.002807,
     "end_time": "2025-07-18T21:32:50.555907",
     "exception": false,
     "start_time": "2025-07-18T21:32:50.553100",
     "status": "completed"
    },
    "tags": []
   },
   "source": [
    "## Step 1: Imports & Dataset"
   ]
  },
  {
   "cell_type": "code",
   "execution_count": 1,
   "id": "384fb79c",
   "metadata": {
    "execution": {
     "iopub.execute_input": "2025-07-18T21:32:50.564788Z",
     "iopub.status.busy": "2025-07-18T21:32:50.564346Z",
     "iopub.status.idle": "2025-07-18T21:32:56.879148Z",
     "shell.execute_reply": "2025-07-18T21:32:56.877481Z"
    },
    "papermill": {
     "duration": 6.322012,
     "end_time": "2025-07-18T21:32:56.881312",
     "exception": false,
     "start_time": "2025-07-18T21:32:50.559300",
     "status": "completed"
    },
    "tags": []
   },
   "outputs": [],
   "source": [
    "# Step 1: Imports & Dataset\n",
    "from sklearn.datasets import fetch_california_housing\n",
    "from sklearn.ensemble import RandomForestRegressor\n",
    "from sklearn.tree import DecisionTreeRegressor\n",
    "from sklearn.model_selection import train_test_split\n",
    "import matplotlib.pyplot as plt\n",
    "import pandas as pd\n",
    "\n",
    "# Load the California Housing dataset\n",
    "housing = fetch_california_housing()\n",
    "X = pd.DataFrame(housing.data, columns=housing.feature_names)\n",
    "y = housing.target"
   ]
  },
  {
   "cell_type": "markdown",
   "id": "a0c5227f",
   "metadata": {
    "papermill": {
     "duration": 0.002825,
     "end_time": "2025-07-18T21:32:56.887439",
     "exception": false,
     "start_time": "2025-07-18T21:32:56.884614",
     "status": "completed"
    },
    "tags": []
   },
   "source": [
    "## Step 2: Train Models"
   ]
  },
  {
   "cell_type": "code",
   "execution_count": 2,
   "id": "236d1a54",
   "metadata": {
    "execution": {
     "iopub.execute_input": "2025-07-18T21:32:56.895285Z",
     "iopub.status.busy": "2025-07-18T21:32:56.894675Z",
     "iopub.status.idle": "2025-07-18T21:33:13.249515Z",
     "shell.execute_reply": "2025-07-18T21:33:13.248240Z"
    },
    "papermill": {
     "duration": 16.361475,
     "end_time": "2025-07-18T21:33:13.251855",
     "exception": false,
     "start_time": "2025-07-18T21:32:56.890380",
     "status": "completed"
    },
    "tags": []
   },
   "outputs": [
    {
     "data": {
      "text/html": [
       "<style>#sk-container-id-1 {color: black;background-color: white;}#sk-container-id-1 pre{padding: 0;}#sk-container-id-1 div.sk-toggleable {background-color: white;}#sk-container-id-1 label.sk-toggleable__label {cursor: pointer;display: block;width: 100%;margin-bottom: 0;padding: 0.3em;box-sizing: border-box;text-align: center;}#sk-container-id-1 label.sk-toggleable__label-arrow:before {content: \"▸\";float: left;margin-right: 0.25em;color: #696969;}#sk-container-id-1 label.sk-toggleable__label-arrow:hover:before {color: black;}#sk-container-id-1 div.sk-estimator:hover label.sk-toggleable__label-arrow:before {color: black;}#sk-container-id-1 div.sk-toggleable__content {max-height: 0;max-width: 0;overflow: hidden;text-align: left;background-color: #f0f8ff;}#sk-container-id-1 div.sk-toggleable__content pre {margin: 0.2em;color: black;border-radius: 0.25em;background-color: #f0f8ff;}#sk-container-id-1 input.sk-toggleable__control:checked~div.sk-toggleable__content {max-height: 200px;max-width: 100%;overflow: auto;}#sk-container-id-1 input.sk-toggleable__control:checked~label.sk-toggleable__label-arrow:before {content: \"▾\";}#sk-container-id-1 div.sk-estimator input.sk-toggleable__control:checked~label.sk-toggleable__label {background-color: #d4ebff;}#sk-container-id-1 div.sk-label input.sk-toggleable__control:checked~label.sk-toggleable__label {background-color: #d4ebff;}#sk-container-id-1 input.sk-hidden--visually {border: 0;clip: rect(1px 1px 1px 1px);clip: rect(1px, 1px, 1px, 1px);height: 1px;margin: -1px;overflow: hidden;padding: 0;position: absolute;width: 1px;}#sk-container-id-1 div.sk-estimator {font-family: monospace;background-color: #f0f8ff;border: 1px dotted black;border-radius: 0.25em;box-sizing: border-box;margin-bottom: 0.5em;}#sk-container-id-1 div.sk-estimator:hover {background-color: #d4ebff;}#sk-container-id-1 div.sk-parallel-item::after {content: \"\";width: 100%;border-bottom: 1px solid gray;flex-grow: 1;}#sk-container-id-1 div.sk-label:hover label.sk-toggleable__label {background-color: #d4ebff;}#sk-container-id-1 div.sk-serial::before {content: \"\";position: absolute;border-left: 1px solid gray;box-sizing: border-box;top: 0;bottom: 0;left: 50%;z-index: 0;}#sk-container-id-1 div.sk-serial {display: flex;flex-direction: column;align-items: center;background-color: white;padding-right: 0.2em;padding-left: 0.2em;position: relative;}#sk-container-id-1 div.sk-item {position: relative;z-index: 1;}#sk-container-id-1 div.sk-parallel {display: flex;align-items: stretch;justify-content: center;background-color: white;position: relative;}#sk-container-id-1 div.sk-item::before, #sk-container-id-1 div.sk-parallel-item::before {content: \"\";position: absolute;border-left: 1px solid gray;box-sizing: border-box;top: 0;bottom: 0;left: 50%;z-index: -1;}#sk-container-id-1 div.sk-parallel-item {display: flex;flex-direction: column;z-index: 1;position: relative;background-color: white;}#sk-container-id-1 div.sk-parallel-item:first-child::after {align-self: flex-end;width: 50%;}#sk-container-id-1 div.sk-parallel-item:last-child::after {align-self: flex-start;width: 50%;}#sk-container-id-1 div.sk-parallel-item:only-child::after {width: 0;}#sk-container-id-1 div.sk-dashed-wrapped {border: 1px dashed gray;margin: 0 0.4em 0.5em 0.4em;box-sizing: border-box;padding-bottom: 0.4em;background-color: white;}#sk-container-id-1 div.sk-label label {font-family: monospace;font-weight: bold;display: inline-block;line-height: 1.2em;}#sk-container-id-1 div.sk-label-container {text-align: center;}#sk-container-id-1 div.sk-container {/* jupyter's `normalize.less` sets `[hidden] { display: none; }` but bootstrap.min.css set `[hidden] { display: none !important; }` so we also need the `!important` here to be able to override the default hidden behavior on the sphinx rendered scikit-learn.org. See: https://github.com/scikit-learn/scikit-learn/issues/21755 */display: inline-block !important;position: relative;}#sk-container-id-1 div.sk-text-repr-fallback {display: none;}</style><div id=\"sk-container-id-1\" class=\"sk-top-container\"><div class=\"sk-text-repr-fallback\"><pre>RandomForestRegressor(random_state=42)</pre><b>In a Jupyter environment, please rerun this cell to show the HTML representation or trust the notebook. <br />On GitHub, the HTML representation is unable to render, please try loading this page with nbviewer.org.</b></div><div class=\"sk-container\" hidden><div class=\"sk-item\"><div class=\"sk-estimator sk-toggleable\"><input class=\"sk-toggleable__control sk-hidden--visually\" id=\"sk-estimator-id-1\" type=\"checkbox\" checked><label for=\"sk-estimator-id-1\" class=\"sk-toggleable__label sk-toggleable__label-arrow\">RandomForestRegressor</label><div class=\"sk-toggleable__content\"><pre>RandomForestRegressor(random_state=42)</pre></div></div></div></div></div>"
      ],
      "text/plain": [
       "RandomForestRegressor(random_state=42)"
      ]
     },
     "execution_count": 2,
     "metadata": {},
     "output_type": "execute_result"
    }
   ],
   "source": [
    "# Step 2: Train Models\n",
    "# Split data into train and test sets\n",
    "X_train, X_test, y_train, y_test = train_test_split(X, y, test_size=0.2, random_state=42)\n",
    "\n",
    "# Initialize models\n",
    "dt = DecisionTreeRegressor(random_state=42)\n",
    "rf = RandomForestRegressor(n_estimators=100, random_state=42)\n",
    "\n",
    "# Train the models\n",
    "dt.fit(X_train, y_train)\n",
    "rf.fit(X_train, y_train)"
   ]
  },
  {
   "cell_type": "markdown",
   "id": "53549de6",
   "metadata": {
    "papermill": {
     "duration": 0.003364,
     "end_time": "2025-07-18T21:33:13.258974",
     "exception": false,
     "start_time": "2025-07-18T21:33:13.255610",
     "status": "completed"
    },
    "tags": []
   },
   "source": [
    "## Step 3: Feature Importance Plot"
   ]
  },
  {
   "cell_type": "code",
   "execution_count": 3,
   "id": "1f62c976",
   "metadata": {
    "execution": {
     "iopub.execute_input": "2025-07-18T21:33:13.268740Z",
     "iopub.status.busy": "2025-07-18T21:33:13.267673Z",
     "iopub.status.idle": "2025-07-18T21:33:13.831636Z",
     "shell.execute_reply": "2025-07-18T21:33:13.830505Z"
    },
    "papermill": {
     "duration": 0.570837,
     "end_time": "2025-07-18T21:33:13.833747",
     "exception": false,
     "start_time": "2025-07-18T21:33:13.262910",
     "status": "completed"
    },
    "tags": []
   },
   "outputs": [
    {
     "data": {
      "image/png": "[encoded data removed]",
      "text/plain": [
       "<Figure size 1200x500 with 2 Axes>"
      ]
     },
     "metadata": {},
     "output_type": "display_data"
    }
   ],
   "source": [
    "# Step 3: Feature Importance Plot\n",
    "import matplotlib.pyplot as plt\n",
    "\n",
    "# Get feature importances from both models\n",
    "dt_importances = dt.feature_importances_\n",
    "rf_importances = rf.feature_importances_\n",
    "\n",
    "# Plotting\n",
    "features = housing.feature_names\n",
    "x = range(len(features))\n",
    "\n",
    "plt.figure(figsize=(12, 5))\n",
    "\n",
    "# Decision Tree\n",
    "plt.subplot(1, 2, 1)\n",
    "plt.barh(x, dt_importances, color='skyblue')\n",
    "plt.yticks(x, features)\n",
    "plt.title(\"Decision Tree Feature Importance\")\n",
    "plt.xlabel(\"Importance Score\")\n",
    "\n",
    "# Random Forest\n",
    "plt.subplot(1, 2, 2)\n",
    "plt.barh(x, rf_importances, color='salmon')\n",
    "plt.yticks(x, features)\n",
    "plt.title(\"Random Forest Feature Importance\")\n",
    "plt.xlabel(\"Importance Score\")\n",
    "\n",
    "plt.tight_layout()\n",
    "plt.show()"
   ]
  },
  {
   "cell_type": "markdown",
   "id": "a0e6976d",
   "metadata": {
    "papermill": {
     "duration": 0.004179,
     "end_time": "2025-07-18T21:33:13.842964",
     "exception": false,
     "start_time": "2025-07-18T21:33:13.838785",
     "status": "completed"
    },
    "tags": []
   },
   "source": [
    "## Step 4: Feature Importance Comparison Table"
   ]
  },
  {
   "cell_type": "code",
   "execution_count": 4,
   "id": "cde352b3",
   "metadata": {
    "execution": {
     "iopub.execute_input": "2025-07-18T21:33:13.853524Z",
     "iopub.status.busy": "2025-07-18T21:33:13.853071Z",
     "iopub.status.idle": "2025-07-18T21:33:13.921365Z",
     "shell.execute_reply": "2025-07-18T21:33:13.920028Z"
    },
    "papermill": {
     "duration": 0.076241,
     "end_time": "2025-07-18T21:33:13.923548",
     "exception": false,
     "start_time": "2025-07-18T21:33:13.847307",
     "status": "completed"
    },
    "tags": []
   },
   "outputs": [
    {
     "data": {
      "text/html": [
       "<div>\n",
       "<style scoped>\n",
       "    .dataframe tbody tr th:only-of-type {\n",
       "        vertical-align: middle;\n",
       "    }\n",
       "\n",
       "    .dataframe tbody tr th {\n",
       "        vertical-align: top;\n",
       "    }\n",
       "\n",
       "    .dataframe thead th {\n",
       "        text-align: right;\n",
       "    }\n",
       "</style>\n",
       "<table border=\"1\" class=\"dataframe\">\n",
       "  <thead>\n",
       "    <tr style=\"text-align: right;\">\n",
       "      <th></th>\n",
       "      <th>Feature</th>\n",
       "      <th>Decision Tree Importance</th>\n",
       "      <th>Random Forest Importance</th>\n",
       "    </tr>\n",
       "  </thead>\n",
       "  <tbody>\n",
       "    <tr>\n",
       "      <th>0</th>\n",
       "      <td>MedInc</td>\n",
       "      <td>0.528509</td>\n",
       "      <td>0.524871</td>\n",
       "    </tr>\n",
       "    <tr>\n",
       "      <th>1</th>\n",
       "      <td>AveOccup</td>\n",
       "      <td>0.130838</td>\n",
       "      <td>0.138443</td>\n",
       "    </tr>\n",
       "    <tr>\n",
       "      <th>2</th>\n",
       "      <td>Latitude</td>\n",
       "      <td>0.093717</td>\n",
       "      <td>0.088936</td>\n",
       "    </tr>\n",
       "    <tr>\n",
       "      <th>3</th>\n",
       "      <td>Longitude</td>\n",
       "      <td>0.082902</td>\n",
       "      <td>0.088629</td>\n",
       "    </tr>\n",
       "    <tr>\n",
       "      <th>4</th>\n",
       "      <td>HouseAge</td>\n",
       "      <td>0.051884</td>\n",
       "      <td>0.054593</td>\n",
       "    </tr>\n",
       "    <tr>\n",
       "      <th>5</th>\n",
       "      <td>AveRooms</td>\n",
       "      <td>0.052975</td>\n",
       "      <td>0.044272</td>\n",
       "    </tr>\n",
       "    <tr>\n",
       "      <th>6</th>\n",
       "      <td>Population</td>\n",
       "      <td>0.030516</td>\n",
       "      <td>0.030650</td>\n",
       "    </tr>\n",
       "    <tr>\n",
       "      <th>7</th>\n",
       "      <td>AveBedrms</td>\n",
       "      <td>0.028660</td>\n",
       "      <td>0.029606</td>\n",
       "    </tr>\n",
       "  </tbody>\n",
       "</table>\n",
       "</div>"
      ],
      "text/plain": [
       "      Feature  Decision Tree Importance  Random Forest Importance\n",
       "0      MedInc                  0.528509                  0.524871\n",
       "1    AveOccup                  0.130838                  0.138443\n",
       "2    Latitude                  0.093717                  0.088936\n",
       "3   Longitude                  0.082902                  0.088629\n",
       "4    HouseAge                  0.051884                  0.054593\n",
       "5    AveRooms                  0.052975                  0.044272\n",
       "6  Population                  0.030516                  0.030650\n",
       "7   AveBedrms                  0.028660                  0.029606"
      ]
     },
     "execution_count": 4,
     "metadata": {},
     "output_type": "execute_result"
    }
   ],
   "source": [
    "# Step 4: Feature Importance Comparison Table\n",
    "import pandas as pd\n",
    "\n",
    "# Create a DataFrame for comparison\n",
    "importance_df = pd.DataFrame({\n",
    "    \"Feature\": housing.feature_names,\n",
    "    \"Decision Tree Importance\": dt.feature_importances_,\n",
    "    \"Random Forest Importance\": rf.feature_importances_\n",
    "})\n",
    "\n",
    "# Sort by Random Forest importance\n",
    "importance_df = importance_df.sort_values(by=\"Random Forest Importance\", ascending=False).reset_index(drop=True)\n",
    "\n",
    "# Display the table\n",
    "importance_df"
   ]
  },
  {
   "cell_type": "markdown",
   "id": "ac427518",
   "metadata": {
    "papermill": {
     "duration": 0.004178,
     "end_time": "2025-07-18T21:33:13.932390",
     "exception": false,
     "start_time": "2025-07-18T21:33:13.928212",
     "status": "completed"
    },
    "tags": []
   },
   "source": [
    "## Step 5: Final Insights & Interpretation"
   ]
  },
  {
   "cell_type": "code",
   "execution_count": 5,
   "id": "38050b21",
   "metadata": {
    "execution": {
     "iopub.execute_input": "2025-07-18T21:33:13.942380Z",
     "iopub.status.busy": "2025-07-18T21:33:13.942004Z",
     "iopub.status.idle": "2025-07-18T21:33:13.957745Z",
     "shell.execute_reply": "2025-07-18T21:33:13.956260Z"
    },
    "papermill": {
     "duration": 0.023174,
     "end_time": "2025-07-18T21:33:13.959764",
     "exception": false,
     "start_time": "2025-07-18T21:33:13.936590",
     "status": "completed"
    },
    "tags": []
   },
   "outputs": [
    {
     "name": "stdout",
     "output_type": "stream",
     "text": [
      "🔍 Final Insights:\n",
      "--------------------------------------------------\n",
      "Random Forest generally provides more stable and accurate feature importance due to averaging over many trees.\n",
      "Decision Tree may overfit and give biased importance scores if not tuned properly.\n",
      "Top features influencing house prices (based on Random Forest):\n",
      " Feature  Random Forest Importance\n",
      "  MedInc                  0.524871\n",
      "AveOccup                  0.138443\n",
      "Latitude                  0.088936\n",
      "--------------------------------------------------\n",
      "Overall, ensemble models like Random Forest are preferred for more reliable interpretations and predictions.\n"
     ]
    }
   ],
   "source": [
    "# Step 5: Final Insights & Interpretation\n",
    "\n",
    "print(\"🔍 Final Insights:\")\n",
    "print(\"-\" * 50)\n",
    "print(\"Random Forest generally provides more stable and accurate feature importance due to averaging over many trees.\")\n",
    "print(\"Decision Tree may overfit and give biased importance scores if not tuned properly.\")\n",
    "print(\"Top features influencing house prices (based on Random Forest):\")\n",
    "print(importance_df.head(3)[[\"Feature\", \"Random Forest Importance\"]].to_string(index=False))\n",
    "print(\"-\" * 50)\n",
    "print(\"Overall, ensemble models like Random Forest are preferred for more reliable interpretations and predictions.\")"
   ]
  },
  {
   "cell_type": "markdown",
   "id": "1626670f",
   "metadata": {
    "papermill": {
     "duration": 0.00435,
     "end_time": "2025-07-18T21:33:13.968900",
     "exception": false,
     "start_time": "2025-07-18T21:33:13.964550",
     "status": "completed"
    },
    "tags": []
   },
   "source": [
    "## ✅ Summary\n",
    "Used California Housing dataset.\n",
    "\n",
    "Trained Decision Tree and Random Forest models.\n",
    "\n",
    "Compared feature importances from both models.\n",
    "\n",
    "MedInc was the most important feature in both.\n",
    "\n",
    "Random Forest gave more stable and reliable results.\n",
    "\n",
    "Ensemble models reduce overfitting and improve interpretation."
   ]
  }
 ],
 "metadata": {
  "kaggle": {
   "accelerator": "none",
   "dataSources": [],
   "dockerImageVersionId": 31089,
   "isGpuEnabled": false,
   "isInternetEnabled": true,
   "language": "python",
   "sourceType": "notebook"
  },
  "kernelspec": {
   "display_name": "Python 3",
   "language": "python",
   "name": "python3"
  },
  "language_info": {
   "codemirror_mode": {
    "name": "ipython",
    "version": 3
   },
   "file_extension": ".py",
   "mimetype": "text/x-python",
   "name": "python",
   "nbconvert_exporter": "python",
   "pygments_lexer": "ipython3",
   "version": "3.11.13"
  },
  "papermill": {
   "default_parameters": {},
   "duration": 30.605902,
   "end_time": "2025-07-18T21:33:14.798778",
   "environment_variables": {},
   "exception": null,
   "input_path": "__notebook__.ipynb",
   "output_path": "__notebook__.ipynb",
   "parameters": {},
   "start_time": "2025-07-18T21:32:44.192876",
   "version": "2.6.0"
  }
 },
 "nbformat": 4,
 "nbformat_minor": 5
}
